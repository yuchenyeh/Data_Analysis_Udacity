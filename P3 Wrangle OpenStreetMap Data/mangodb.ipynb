{
 "cells": [
  {
   "cell_type": "markdown",
   "metadata": {},
   "source": [
    "<b>OpenStreetMap Data Wrangling with SQL</b>"
   ]
  },
  {
   "cell_type": "markdown",
   "metadata": {},
   "source": [
    "Map Area:\n",
    "London, United Kingdom\n",
    "\n",
    "Source: <br>\n",
    "https://www.openstreetmap.org/relation/65606#map=10/51.4904/-0.0879 <br>\n",
    "https://mapzen.com/data/metro-extracts/metro/london_england/"
   ]
  },
  {
   "cell_type": "markdown",
   "metadata": {},
   "source": [
    "<b>Problems Encountered in the Map</b>"
   ]
  },
  {
   "cell_type": "markdown",
   "metadata": {},
   "source": [
    "Student response shows understanding of the process of auditing, and ways to correct or standardize the data, including dealing with problems specific to the location, e.g. related to language or traditional ways of formatting."
   ]
  },
  {
   "cell_type": "markdown",
   "metadata": {},
   "source": [
    "After initially downloading a small sample size of the London area and running it against a provisional data.py file, I noticed five main problems with the data, which I will discuss in the following order:\n",
    "\n",
    "1. Missing user value in node\n",
    "2. Inconsistent user name (\"Steve Chilton\", \"nickw\", \"user_5541\")\n",
    "3. naptan in second ­level “k” tags pulled from Tiger GPS data and divided into segments, in the following format:\n",
    "469761014\tnaptan:Street\tWHITECHAPEL ROAD\tregular\n"
   ]
  },
  {
   "cell_type": "code",
   "execution_count": null,
   "metadata": {
    "collapsed": true
   },
   "outputs": [],
   "source": [
    "Missing user value \n",
    "\n",
    "<node changeset=\"120938\" id=\"16713489\" lat=\"51.9539579\" lon=\"-0.1707352\" timestamp=\"2006-09-26T17:25:23Z\" version=\"1\">\n",
    "\t\n",
    "\t<tag k=\"created_by\" v=\"JOSM\" />\n",
    "\t</node>\n",
    "\t\n",
    "    \n",
    "            try:\n",
    "                node_attribs[node] = element.attrib[node]\n",
    "                print node_attribs[node]\n",
    "            except Exception:\n",
    "                pass\n"
   ]
  },
  {
   "cell_type": "code",
   "execution_count": null,
   "metadata": {
    "collapsed": true
   },
   "outputs": [],
   "source": [
    "2. Inconsistent user name"
   ]
  },
  {
   "cell_type": "markdown",
   "metadata": {},
   "source": [
    "<b>Data Overview</b>"
   ]
  },
  {
   "cell_type": "markdown",
   "metadata": {},
   "source": [
    "The OSM XML file is at least 50 MB uncompressed. \n",
    "\n",
    "Database queries are used to provide a statistical overview of the dataset, like:\n",
    "size of the file\n",
    "number of unique users\n",
    "number of nodes and ways\n",
    "number of chosen type of nodes, like cafes, shops etc.\n",
    "Additional statistics not in the list above are computed. For SQL submissions some queries make use of more than one table."
   ]
  },
  {
   "cell_type": "code",
   "execution_count": null,
   "metadata": {
    "collapsed": true
   },
   "outputs": [],
   "source": []
  },
  {
   "cell_type": "code",
   "execution_count": null,
   "metadata": {
    "collapsed": true
   },
   "outputs": [],
   "source": []
  },
  {
   "cell_type": "markdown",
   "metadata": {},
   "source": [
    "<b> Other ideas about the datasets </b>"
   ]
  },
  {
   "cell_type": "markdown",
   "metadata": {},
   "source": [
    "Submission document includes one or more additional suggestions for improving and analyzing the data.Submission document includes thoughtful discussion about the benefits as well as some anticipated problems in implementing the improvement."
   ]
  },
  {
   "cell_type": "markdown",
   "metadata": {},
   "source": [
    "<b>Conclusion</b>"
   ]
  },
  {
   "cell_type": "code",
   "execution_count": null,
   "metadata": {
    "collapsed": true
   },
   "outputs": [],
   "source": []
  }
 ],
 "metadata": {
  "anaconda-cloud": {},
  "kernelspec": {
   "display_name": "Python [Root]",
   "language": "python",
   "name": "Python [Root]"
  },
  "language_info": {
   "codemirror_mode": {
    "name": "ipython",
    "version": 2
   },
   "file_extension": ".py",
   "mimetype": "text/x-python",
   "name": "python",
   "nbconvert_exporter": "python",
   "pygments_lexer": "ipython2",
   "version": "2.7.12"
  }
 },
 "nbformat": 4,
 "nbformat_minor": 0
}
